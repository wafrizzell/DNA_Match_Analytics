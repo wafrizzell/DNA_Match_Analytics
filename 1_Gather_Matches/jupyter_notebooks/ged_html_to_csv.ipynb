{
 "cells": [
  {
   "cell_type": "code",
   "execution_count": 44,
   "id": "7f0c79f7",
   "metadata": {},
   "outputs": [],
   "source": [
    "from bs4 import BeautifulSoup\n",
    "import pandas as pd\n",
    "import os"
   ]
  },
  {
   "cell_type": "code",
   "execution_count": 45,
   "id": "9e589ddd",
   "metadata": {},
   "outputs": [],
   "source": [
    "### SET GLOBAL VARIABLES ###\n",
    "\n",
    "your_ged_id = ''   # Put your GED Match ID here as a string\n",
    "auto_id_list = True      # Set to true to create list of ged_ids from directory, false to manually select ged_ids\n",
    "directory = '../files/'    # Set directory to write csv output to\n",
    "\n",
    "# Insert a list of ged_ids you want to parse\n",
    "manual_id_list = []\n",
    "ged_ids = []\n",
    "\n",
    "edges = pd.DataFrame()\n",
    "nodes = pd.DataFrame()"
   ]
  },
  {
   "cell_type": "code",
   "execution_count": 46,
   "id": "07a718d2",
   "metadata": {},
   "outputs": [
    {
     "name": "stdout",
     "output_type": "stream",
     "text": [
      "shared_master.csv already exists\n"
     ]
    }
   ],
   "source": [
    "### CREATE OR RESET CSV FILES ###\n",
    "\n",
    "header = pd.DataFrame(['target','name', 'main_cm', 'main_long', 'main_gen', 'match_cm',\n",
    "                       'match_long', 'match_gen', 'gen_diff', 'tree', 'email', 'main_id', 'match_id']).T\n",
    "\n",
    "if os.path.isfile(f'{directory}shared_master.csv'):\n",
    "    print(\"shared_master.csv already exists\")\n",
    "else:\n",
    "    header.to_csv(f'{directory}shared_master.csv', header=False, index=False)\n",
    "    print(\"shared_master.csv created and header wrote to file\")\n"
   ]
  },
  {
   "cell_type": "code",
   "execution_count": 47,
   "id": "6ca41c2a",
   "metadata": {},
   "outputs": [],
   "source": [
    "### CREATE GED_ID LIST ###\n",
    "\n",
    "# Add from directory if auto is true, or from manual_id_list if auto is false\n",
    "if auto_id_list == True:\n",
    "    for filename in os.listdir(os.getcwd()):\n",
    "        if filename.endswith('.html'):\n",
    "            ged_ids.append(filename[:-5])\n",
    "else:\n",
    "    ged_ids = manual_id_list"
   ]
  },
  {
   "cell_type": "code",
   "execution_count": null,
   "id": "dfbbe00d",
   "metadata": {},
   "outputs": [],
   "source": [
    "### USE BEAUTIFUL SOUP TO PARSE HTML FILES FROM GED ID LIST ###\n",
    "\n",
    "# Iterate through each html file using ged_ids\n",
    "for ged_id in ged_ids:\n",
    "    match_id = ged_id\n",
    "    \n",
    "    # Parse the html file\n",
    "    gedMatch_html = open(f'{match_id}.html',encoding='utf8')\n",
    "    soup = BeautifulSoup(gedMatch_html, 'html.parser')\n",
    "\n",
    "    # Find table and get table rows and create match_data\n",
    "    table = soup.find('table', attrs={'class':'results-table'})\n",
    "    table_rows = table.find_all(\"tr\")\n",
    "\n",
    "    match_data = []\n",
    "    for row in table.find_all('tr'):\n",
    "        row_data = []\n",
    "        for cell in row.find_all('td'):\n",
    "            row_data.append(cell.text)\n",
    "        match_data.append(row_data)\n",
    "    \n",
    "    # Create the dataframe\n",
    "    df = pd.DataFrame(match_data)\n",
    "    \n",
    "    # Close the open file after dataframe is made\n",
    "    gedMatch_html.close()\n",
    "    \n",
    "    \n",
    "### CREATE NODES AND EDGES DATAFRAMES ###   \n",
    "    \n",
    "    # Create edge dataframes and then concat into one dataframe\n",
    "    ### CLEAN AND PREPARE DATAFRAME ###\n",
    "    \n",
    "     # Add new columns\n",
    "    df[12] = your_ged_id\n",
    "    df[13] = f'{match_id}''\n",
    "\n",
    "     # Drop empty rows and unused columns and reset the index\n",
    "    df.drop([0, 1], inplace=True)\n",
    "    df.drop([1], inplace=True, axis=1)\n",
    "    df.reset_index(drop=True, inplace=True)\n",
    "\n",
    "     # Rename columns\n",
    "    df.columns =['target','name', 'main_cm', 'main_longest', 'main_gen', 'match_cm', 'match_long',\n",
    "    'match_gen', 'gen_diff', 'tree', 'email', 'main_id', 'match_id']\n",
    "\n",
    "    # Recast numeric columns as floats\n",
    "    df['main_cm'] = df['main_cm'].str.replace(',', '').astype('float')\n",
    "    df['main_longest'] = df['main_longest'].astype('float')\n",
    "    df['main_gen'] = df['main_gen'].astype('float')\n",
    "    df['match_cm'] = df['match_cm'].str.replace(',', '').astype('float')\n",
    "    df['match_long'] = df['match_long'].astype('float')\n",
    "    df['match_gen'] = df['match_gen'].astype('float')\n",
    "    df['gen_diff'] = df['gen_diff'].astype('float')\n",
    "\n",
    "    # Save to shared_master.csv\n",
    "    df.to_csv(f'{directory}shared_master.csv', mode='a', header=False, index=False)\n",
    "    print(f'Appended {match_id} to shared_master.csv')    "
   ]
  },
  {
   "cell_type": "markdown",
   "id": "bc81d7e5",
   "metadata": {},
   "source": [
    "Need to fix values in GED, Wiki, GED Wiki\n",
    "Find a way to check to see if file has already been saved - Add IDs saved to a csv and then compare with a list to download to make a final list - Use match_id unique\n",
    "Transfer new set\n",
    "Need to clean up code, maybe rename variables and upload to GitHub\n",
    "Add error handling\n",
    "Make more script friendly"
   ]
  }
 ],
 "metadata": {
  "kernelspec": {
   "display_name": "Python 3 (ipykernel)",
   "language": "python",
   "name": "python3"
  },
  "language_info": {
   "codemirror_mode": {
    "name": "ipython",
    "version": 3
   },
   "file_extension": ".py",
   "mimetype": "text/x-python",
   "name": "python",
   "nbconvert_exporter": "python",
   "pygments_lexer": "ipython3",
   "version": "3.9.12"
  }
 },
 "nbformat": 4,
 "nbformat_minor": 5
}
