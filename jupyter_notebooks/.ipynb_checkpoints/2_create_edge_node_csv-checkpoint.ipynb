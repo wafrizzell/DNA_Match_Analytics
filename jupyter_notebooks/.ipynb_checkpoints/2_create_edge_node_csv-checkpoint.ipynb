{
 "cells": [
  {
   "cell_type": "markdown",
   "id": "912ce03b",
   "metadata": {},
   "source": [
    "# Create Node and Edge Files for Gephi Import\n",
    "## This will create a ***nodes.csv*** and ***edges.csv*** file\n",
    "\n",
    "### Requires:\n",
    "* master_matches.db\n",
    "* master_icw.csv\n",
    "* tree_attributes.csv"
   ]
  },
  {
   "cell_type": "code",
   "execution_count": 1,
   "id": "0cc9d991",
   "metadata": {},
   "outputs": [],
   "source": [
    "import pandas as pd\n",
    "import sqlite3"
   ]
  },
  {
   "cell_type": "markdown",
   "id": "df5f853e",
   "metadata": {},
   "source": [
    "## Set Variables"
   ]
  },
  {
   "cell_type": "code",
   "execution_count": 2,
   "id": "39927d0c",
   "metadata": {},
   "outputs": [],
   "source": [
    "# file_path is the path to the directory that your files exist in if not in same directory\n",
    "file_path = \"../files/\""
   ]
  },
  {
   "cell_type": "markdown",
   "id": "825b1ea3",
   "metadata": {},
   "source": [
    "## Connect to *master_matches.db* and Create a DataFrame"
   ]
  },
  {
   "cell_type": "code",
   "execution_count": 3,
   "id": "948ced5b",
   "metadata": {},
   "outputs": [
    {
     "data": {
      "text/html": [
       "<div>\n",
       "<style scoped>\n",
       "    .dataframe tbody tr th:only-of-type {\n",
       "        vertical-align: middle;\n",
       "    }\n",
       "\n",
       "    .dataframe tbody tr th {\n",
       "        vertical-align: top;\n",
       "    }\n",
       "\n",
       "    .dataframe thead th {\n",
       "        text-align: right;\n",
       "    }\n",
       "</style>\n",
       "<table border=\"1\" class=\"dataframe\">\n",
       "  <thead>\n",
       "    <tr style=\"text-align: right;\">\n",
       "      <th></th>\n",
       "      <th>ancestry</th>\n",
       "      <th>match_name</th>\n",
       "      <th>match_admin</th>\n",
       "      <th>sharedCM</th>\n",
       "      <th>segments</th>\n",
       "      <th>side</th>\n",
       "      <th>mrca</th>\n",
       "      <th>gens</th>\n",
       "      <th>notes</th>\n",
       "    </tr>\n",
       "  </thead>\n",
       "  <tbody>\n",
       "    <tr>\n",
       "      <th>0</th>\n",
       "      <td>anc_id 1</td>\n",
       "      <td>match_name 1</td>\n",
       "      <td>match_admin 1</td>\n",
       "      <td>3475.0</td>\n",
       "      <td>24</td>\n",
       "      <td>M</td>\n",
       "      <td>mrca 1</td>\n",
       "      <td>1.0</td>\n",
       "      <td>None</td>\n",
       "    </tr>\n",
       "  </tbody>\n",
       "</table>\n",
       "</div>"
      ],
      "text/plain": [
       "   ancestry    match_name    match_admin  sharedCM  segments side    mrca  \\\n",
       "0  anc_id 1  match_name 1  match_admin 1    3475.0        24    M  mrca 1   \n",
       "\n",
       "   gens notes  \n",
       "0   1.0  None  "
      ]
     },
     "execution_count": 3,
     "metadata": {},
     "output_type": "execute_result"
    }
   ],
   "source": [
    "# Connect to the SQLite database\n",
    "conn_read = sqlite3.connect(f'{file_path}master_matches.db')\n",
    "\n",
    "# Read data from a table into a DataFrame\n",
    "master_df = pd.read_sql_query('SELECT * FROM matches', conn_read)\n",
    "\n",
    "# Close the connection\n",
    "conn_read.close()\n",
    "\n",
    "master_df.head(1)"
   ]
  },
  {
   "cell_type": "markdown",
   "id": "c9efc9d2",
   "metadata": {},
   "source": [
    "## Connect to ***master_icw.csv*** and Create DataFrame"
   ]
  },
  {
   "cell_type": "code",
   "execution_count": 10,
   "id": "28f33b45",
   "metadata": {},
   "outputs": [
    {
     "data": {
      "text/html": [
       "<div>\n",
       "<style scoped>\n",
       "    .dataframe tbody tr th:only-of-type {\n",
       "        vertical-align: middle;\n",
       "    }\n",
       "\n",
       "    .dataframe tbody tr th {\n",
       "        vertical-align: top;\n",
       "    }\n",
       "\n",
       "    .dataframe thead th {\n",
       "        text-align: right;\n",
       "    }\n",
       "</style>\n",
       "<table border=\"1\" class=\"dataframe\">\n",
       "  <thead>\n",
       "    <tr style=\"text-align: right;\">\n",
       "      <th></th>\n",
       "      <th>source_id</th>\n",
       "      <th>target_id</th>\n",
       "    </tr>\n",
       "  </thead>\n",
       "  <tbody>\n",
       "    <tr>\n",
       "      <th>0</th>\n",
       "      <td>anc_id 248</td>\n",
       "      <td>anc_id 769</td>\n",
       "    </tr>\n",
       "  </tbody>\n",
       "</table>\n",
       "</div>"
      ],
      "text/plain": [
       "    source_id   target_id\n",
       "0  anc_id 248  anc_id 769"
      ]
     },
     "execution_count": 10,
     "metadata": {},
     "output_type": "execute_result"
    }
   ],
   "source": [
    "icw_df = pd.read_csv(f'{file_path}master_icw.csv')\n",
    "             \n",
    "icw_df.head(1)"
   ]
  },
  {
   "cell_type": "markdown",
   "id": "69c0dc78",
   "metadata": {},
   "source": [
    "## Connect to ***tree_attributes.csv*** and Create DataFrame"
   ]
  },
  {
   "cell_type": "code",
   "execution_count": 4,
   "id": "6dd39dfd",
   "metadata": {},
   "outputs": [
    {
     "data": {
      "text/html": [
       "<div>\n",
       "<style scoped>\n",
       "    .dataframe tbody tr th:only-of-type {\n",
       "        vertical-align: middle;\n",
       "    }\n",
       "\n",
       "    .dataframe tbody tr th {\n",
       "        vertical-align: top;\n",
       "    }\n",
       "\n",
       "    .dataframe thead th {\n",
       "        text-align: right;\n",
       "    }\n",
       "</style>\n",
       "<table border=\"1\" class=\"dataframe\">\n",
       "  <thead>\n",
       "    <tr style=\"text-align: right;\">\n",
       "      <th></th>\n",
       "      <th>gens</th>\n",
       "      <th>color</th>\n",
       "      <th>x</th>\n",
       "      <th>y</th>\n",
       "    </tr>\n",
       "  </thead>\n",
       "  <tbody>\n",
       "    <tr>\n",
       "      <th>0</th>\n",
       "      <td>1.0</td>\n",
       "      <td>fffdd0</td>\n",
       "      <td>0.0</td>\n",
       "      <td>0.0</td>\n",
       "    </tr>\n",
       "  </tbody>\n",
       "</table>\n",
       "</div>"
      ],
      "text/plain": [
       "   gens   color    x    y\n",
       "0   1.0  fffdd0  0.0  0.0"
      ]
     },
     "execution_count": 4,
     "metadata": {},
     "output_type": "execute_result"
    }
   ],
   "source": [
    "attributes_df = pd.read_csv(f'{file_path}tree_attributes.csv', usecols=['gens', 'color','x', 'y'])\n",
    "             \n",
    "attributes_df.head(1)"
   ]
  },
  {
   "cell_type": "markdown",
   "id": "10bf1334",
   "metadata": {},
   "source": [
    "## Clean String Data and Add a Side Column"
   ]
  },
  {
   "cell_type": "code",
   "execution_count": 11,
   "id": "6118ebc6",
   "metadata": {},
   "outputs": [],
   "source": [
    "icw_df['source_id'] = icw_df['source_id'].str.lower().str.strip()\n",
    "icw_df['target_id'] = icw_df['target_id'].str.lower().str.strip()\n",
    "\n",
    "master_df['ancestry'] = master_df['ancestry'].str.lower().str.strip()"
   ]
  },
  {
   "cell_type": "markdown",
   "id": "de4d0c36",
   "metadata": {},
   "source": [
    "## Filter *matches_df* to Create a Subset of Nodes to Include in ***nodes.csv***"
   ]
  },
  {
   "cell_type": "code",
   "execution_count": 8,
   "id": "91c899f3",
   "metadata": {},
   "outputs": [
    {
     "data": {
      "text/html": [
       "<div>\n",
       "<style scoped>\n",
       "    .dataframe tbody tr th:only-of-type {\n",
       "        vertical-align: middle;\n",
       "    }\n",
       "\n",
       "    .dataframe tbody tr th {\n",
       "        vertical-align: top;\n",
       "    }\n",
       "\n",
       "    .dataframe thead th {\n",
       "        text-align: right;\n",
       "    }\n",
       "</style>\n",
       "<table border=\"1\" class=\"dataframe\">\n",
       "  <thead>\n",
       "    <tr style=\"text-align: right;\">\n",
       "      <th></th>\n",
       "      <th>ancestry</th>\n",
       "      <th>match_name</th>\n",
       "      <th>match_admin</th>\n",
       "      <th>sharedCM</th>\n",
       "      <th>segments</th>\n",
       "      <th>side</th>\n",
       "      <th>mrca</th>\n",
       "      <th>gens</th>\n",
       "      <th>notes</th>\n",
       "      <th>id</th>\n",
       "    </tr>\n",
       "  </thead>\n",
       "  <tbody>\n",
       "    <tr>\n",
       "      <th>0</th>\n",
       "      <td>anc_id 1</td>\n",
       "      <td>match_name 1</td>\n",
       "      <td>match_admin 1</td>\n",
       "      <td>3475.0</td>\n",
       "      <td>24</td>\n",
       "      <td>M</td>\n",
       "      <td>mrca 1</td>\n",
       "      <td>1.0</td>\n",
       "      <td>None</td>\n",
       "      <td>0</td>\n",
       "    </tr>\n",
       "  </tbody>\n",
       "</table>\n",
       "</div>"
      ],
      "text/plain": [
       "   ancestry    match_name    match_admin  sharedCM  segments side    mrca  \\\n",
       "0  anc_id 1  match_name 1  match_admin 1    3475.0        24    M  mrca 1   \n",
       "\n",
       "   gens notes  id  \n",
       "0   1.0  None   0  "
      ]
     },
     "execution_count": 8,
     "metadata": {},
     "output_type": "execute_result"
    }
   ],
   "source": [
    "# Create Filters to Subset the Nodes List Based on Determined Criteria\n",
    "# Filter on cm_size, known_mrca, side, etc. \n",
    "# Then create a node list after filter\n",
    "node_list = []\n",
    "\n",
    "node_list = master_df[\"ancestry\"].unique()\n",
    "\n",
    "master_df.reset_index(drop=True)\n",
    "master_df[\"id\"] = master_df.index\n",
    "\n",
    "master_df.head(1)"
   ]
  },
  {
   "cell_type": "code",
   "execution_count": 9,
   "id": "dfdb6d59",
   "metadata": {},
   "outputs": [],
   "source": [
    "node_dict = {}\n",
    "\n",
    "   \n",
    "# Iterate through dataframe\n",
    "for index, row in master_df.iterrows():\n",
    "    if row['ancestry'] in node_list:\n",
    "        node_dict[row['ancestry']] = row['id']"
   ]
  },
  {
   "cell_type": "markdown",
   "id": "b7c6329f",
   "metadata": {},
   "source": [
    "## Filter icw_df to Include Filtered Nodes Only"
   ]
  },
  {
   "cell_type": "code",
   "execution_count": 12,
   "id": "0e6ad304",
   "metadata": {},
   "outputs": [
    {
     "data": {
      "text/html": [
       "<div>\n",
       "<style scoped>\n",
       "    .dataframe tbody tr th:only-of-type {\n",
       "        vertical-align: middle;\n",
       "    }\n",
       "\n",
       "    .dataframe tbody tr th {\n",
       "        vertical-align: top;\n",
       "    }\n",
       "\n",
       "    .dataframe thead th {\n",
       "        text-align: right;\n",
       "    }\n",
       "</style>\n",
       "<table border=\"1\" class=\"dataframe\">\n",
       "  <thead>\n",
       "    <tr style=\"text-align: right;\">\n",
       "      <th></th>\n",
       "      <th>source_id</th>\n",
       "      <th>target_id</th>\n",
       "      <th>source</th>\n",
       "      <th>target</th>\n",
       "    </tr>\n",
       "  </thead>\n",
       "  <tbody>\n",
       "    <tr>\n",
       "      <th>0</th>\n",
       "      <td>anc_id 248</td>\n",
       "      <td>anc_id 769</td>\n",
       "      <td>247</td>\n",
       "      <td>768</td>\n",
       "    </tr>\n",
       "  </tbody>\n",
       "</table>\n",
       "</div>"
      ],
      "text/plain": [
       "    source_id   target_id  source  target\n",
       "0  anc_id 248  anc_id 769     247     768"
      ]
     },
     "execution_count": 12,
     "metadata": {},
     "output_type": "execute_result"
    }
   ],
   "source": [
    "# Filter df_icw to only those that both match_ids are in list\n",
    "\n",
    "# Map icw_df['matchid'] and icw_df['icwid'] to icw_df['source'] and icw_df['target']:\n",
    "icw_df['source'] = icw_df['source_id'].map(node_dict)\n",
    "icw_df['target'] = icw_df['target_id'].map(node_dict)\n",
    "\n",
    "icw_df.dropna(subset = ['source', 'target'], inplace=True)\n",
    "icw_df[['source','target']] = icw_df[['source','target']].astype('int16')\n",
    "\n",
    "icw_df.head(1)"
   ]
  },
  {
   "cell_type": "markdown",
   "id": "764e8ad6",
   "metadata": {},
   "source": [
    "## Join *master_df*  and *attributes_df* on *gens*"
   ]
  },
  {
   "cell_type": "code",
   "execution_count": 14,
   "id": "ad0d0ad0",
   "metadata": {},
   "outputs": [
    {
     "data": {
      "text/html": [
       "<div>\n",
       "<style scoped>\n",
       "    .dataframe tbody tr th:only-of-type {\n",
       "        vertical-align: middle;\n",
       "    }\n",
       "\n",
       "    .dataframe tbody tr th {\n",
       "        vertical-align: top;\n",
       "    }\n",
       "\n",
       "    .dataframe thead th {\n",
       "        text-align: right;\n",
       "    }\n",
       "</style>\n",
       "<table border=\"1\" class=\"dataframe\">\n",
       "  <thead>\n",
       "    <tr style=\"text-align: right;\">\n",
       "      <th></th>\n",
       "      <th>ancestry</th>\n",
       "      <th>match_name</th>\n",
       "      <th>match_admin</th>\n",
       "      <th>sharedCM</th>\n",
       "      <th>segments</th>\n",
       "      <th>side</th>\n",
       "      <th>mrca</th>\n",
       "      <th>gens</th>\n",
       "      <th>notes</th>\n",
       "      <th>id</th>\n",
       "      <th>color</th>\n",
       "      <th>x</th>\n",
       "      <th>y</th>\n",
       "    </tr>\n",
       "  </thead>\n",
       "  <tbody>\n",
       "    <tr>\n",
       "      <th>0</th>\n",
       "      <td>anc_id 1</td>\n",
       "      <td>match_name 1</td>\n",
       "      <td>match_admin 1</td>\n",
       "      <td>3475.0</td>\n",
       "      <td>24</td>\n",
       "      <td>M</td>\n",
       "      <td>mrca 1</td>\n",
       "      <td>1.0</td>\n",
       "      <td>None</td>\n",
       "      <td>0</td>\n",
       "      <td>fffdd0</td>\n",
       "      <td>0.0</td>\n",
       "      <td>0.0</td>\n",
       "    </tr>\n",
       "  </tbody>\n",
       "</table>\n",
       "</div>"
      ],
      "text/plain": [
       "   ancestry    match_name    match_admin  sharedCM  segments side    mrca  \\\n",
       "0  anc_id 1  match_name 1  match_admin 1    3475.0        24    M  mrca 1   \n",
       "\n",
       "   gens notes  id   color    x    y  \n",
       "0   1.0  None   0  fffdd0  0.0  0.0  "
      ]
     },
     "execution_count": 14,
     "metadata": {},
     "output_type": "execute_result"
    }
   ],
   "source": [
    "master_df = master_df.merge(attributes_df, how='left', on='gens')\n",
    "\n",
    "master_df.head(1)"
   ]
  },
  {
   "cell_type": "markdown",
   "id": "f87059f3",
   "metadata": {},
   "source": [
    "## Create Label Columns and Select Columns for Export"
   ]
  },
  {
   "cell_type": "code",
   "execution_count": 15,
   "id": "40d384a5",
   "metadata": {},
   "outputs": [
    {
     "data": {
      "text/html": [
       "<div>\n",
       "<style scoped>\n",
       "    .dataframe tbody tr th:only-of-type {\n",
       "        vertical-align: middle;\n",
       "    }\n",
       "\n",
       "    .dataframe tbody tr th {\n",
       "        vertical-align: top;\n",
       "    }\n",
       "\n",
       "    .dataframe thead th {\n",
       "        text-align: right;\n",
       "    }\n",
       "</style>\n",
       "<table border=\"1\" class=\"dataframe\">\n",
       "  <thead>\n",
       "    <tr style=\"text-align: right;\">\n",
       "      <th></th>\n",
       "      <th>id</th>\n",
       "      <th>label</th>\n",
       "      <th>ancestry</th>\n",
       "      <th>color</th>\n",
       "      <th>x</th>\n",
       "      <th>y</th>\n",
       "      <th>sharedCM</th>\n",
       "      <th>segments</th>\n",
       "      <th>side</th>\n",
       "      <th>mrca</th>\n",
       "      <th>gens</th>\n",
       "      <th>gens_int</th>\n",
       "    </tr>\n",
       "  </thead>\n",
       "  <tbody>\n",
       "    <tr>\n",
       "      <th>0</th>\n",
       "      <td>0</td>\n",
       "      <td>match_name 1 match_admin 1</td>\n",
       "      <td>anc_id 1</td>\n",
       "      <td>fffdd0</td>\n",
       "      <td>0.0</td>\n",
       "      <td>0.0</td>\n",
       "      <td>3475.0</td>\n",
       "      <td>24</td>\n",
       "      <td>M</td>\n",
       "      <td>mrca 1</td>\n",
       "      <td>1.0</td>\n",
       "      <td>1</td>\n",
       "    </tr>\n",
       "  </tbody>\n",
       "</table>\n",
       "</div>"
      ],
      "text/plain": [
       "   id                       label  ancestry   color    x    y  sharedCM  \\\n",
       "0   0  match_name 1 match_admin 1  anc_id 1  fffdd0  0.0  0.0    3475.0   \n",
       "\n",
       "   segments side    mrca  gens  gens_int  \n",
       "0        24    M  mrca 1   1.0         1  "
      ]
     },
     "execution_count": 15,
     "metadata": {},
     "output_type": "execute_result"
    }
   ],
   "source": [
    "#Select columnns for node file and rename\n",
    "master_df['label'] = master_df['match_name'] + \" \" + master_df['match_admin']\n",
    "master_df['gens_int'] = master_df['gens'].astype('int8')\n",
    "nodes_df = (master_df[['id','label','ancestry','color','x','y','sharedCM',\n",
    "                       'segments','side','mrca','gens','gens_int']]\n",
    "           )\n",
    "\n",
    "nodes_df.head(1)"
   ]
  },
  {
   "cell_type": "code",
   "execution_count": 16,
   "id": "4021c126",
   "metadata": {},
   "outputs": [
    {
     "data": {
      "text/html": [
       "<div>\n",
       "<style scoped>\n",
       "    .dataframe tbody tr th:only-of-type {\n",
       "        vertical-align: middle;\n",
       "    }\n",
       "\n",
       "    .dataframe tbody tr th {\n",
       "        vertical-align: top;\n",
       "    }\n",
       "\n",
       "    .dataframe thead th {\n",
       "        text-align: right;\n",
       "    }\n",
       "</style>\n",
       "<table border=\"1\" class=\"dataframe\">\n",
       "  <thead>\n",
       "    <tr style=\"text-align: right;\">\n",
       "      <th></th>\n",
       "      <th>source</th>\n",
       "      <th>target</th>\n",
       "    </tr>\n",
       "  </thead>\n",
       "  <tbody>\n",
       "    <tr>\n",
       "      <th>0</th>\n",
       "      <td>247</td>\n",
       "      <td>768</td>\n",
       "    </tr>\n",
       "  </tbody>\n",
       "</table>\n",
       "</div>"
      ],
      "text/plain": [
       "   source  target\n",
       "0     247     768"
      ]
     },
     "execution_count": 16,
     "metadata": {},
     "output_type": "execute_result"
    }
   ],
   "source": [
    "#Select columns for edge file\n",
    "edges_df = icw_df[['source','target']]\n",
    "\n",
    "edges_df.head(1)"
   ]
  },
  {
   "cell_type": "markdown",
   "id": "e3a3a17b",
   "metadata": {},
   "source": [
    "## Export DataFrames to CSV Files"
   ]
  },
  {
   "cell_type": "code",
   "execution_count": 17,
   "id": "7867891d",
   "metadata": {},
   "outputs": [],
   "source": [
    "nodes_df.to_csv(f'{file_path}nodes.csv', index=False)\n",
    "\n",
    "edges_df.to_csv(f'{file_path}edges.csv', index=False)"
   ]
  },
  {
   "cell_type": "markdown",
   "id": "56121598",
   "metadata": {},
   "source": [
    "### Features to Add\n",
    "\n",
    "1. Create a series of filters to create new gephi import files\n",
    "    * Filter by cm size\n",
    "    * Filter by finding matches of certain matches to graph a specific side\n",
    "    * Filter by known_mrca\n",
    "    * Filter by side"
   ]
  }
 ],
 "metadata": {
  "kernelspec": {
   "display_name": "Python 3 (ipykernel)",
   "language": "python",
   "name": "python3"
  },
  "language_info": {
   "codemirror_mode": {
    "name": "ipython",
    "version": 3
   },
   "file_extension": ".py",
   "mimetype": "text/x-python",
   "name": "python",
   "nbconvert_exporter": "python",
   "pygments_lexer": "ipython3",
   "version": "3.9.12"
  }
 },
 "nbformat": 4,
 "nbformat_minor": 5
}
