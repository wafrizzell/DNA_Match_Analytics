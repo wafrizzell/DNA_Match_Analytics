{
 "cells": [
  {
   "cell_type": "markdown",
   "id": "c2bd8dc8",
   "metadata": {},
   "source": [
    "# Create Master Match Database\n",
    "## This will create a ***master_matches.db***\n",
    "\n",
    "### Requires:\n",
    "\n",
    "* master_matches.csv"
   ]
  },
  {
   "cell_type": "code",
   "execution_count": 1,
   "id": "3b39e2cb",
   "metadata": {},
   "outputs": [],
   "source": [
    "import pandas as pd\n",
    "import sqlite3"
   ]
  },
  {
   "cell_type": "markdown",
   "id": "3a8d41a1",
   "metadata": {},
   "source": [
    "## Set Variables"
   ]
  },
  {
   "cell_type": "code",
   "execution_count": 2,
   "id": "c6f061ff",
   "metadata": {},
   "outputs": [],
   "source": [
    "# db_mode is used to determine whether to create a new database or append to existing database\n",
    "db_mode = 'update' # create or update\n",
    "\n",
    "# file_path is the path to the directory that your files exist in if not in same directory\n",
    "file_path = \"../files/\""
   ]
  },
  {
   "cell_type": "markdown",
   "id": "d346b173",
   "metadata": {},
   "source": [
    "## Read ***master_matches.csv*** and Create a DataFrame"
   ]
  },
  {
   "cell_type": "code",
   "execution_count": 3,
   "id": "a0b38780",
   "metadata": {},
   "outputs": [
    {
     "data": {
      "text/html": [
       "<div>\n",
       "<style scoped>\n",
       "    .dataframe tbody tr th:only-of-type {\n",
       "        vertical-align: middle;\n",
       "    }\n",
       "\n",
       "    .dataframe tbody tr th {\n",
       "        vertical-align: top;\n",
       "    }\n",
       "\n",
       "    .dataframe thead th {\n",
       "        text-align: right;\n",
       "    }\n",
       "</style>\n",
       "<table border=\"1\" class=\"dataframe\">\n",
       "  <thead>\n",
       "    <tr style=\"text-align: right;\">\n",
       "      <th></th>\n",
       "      <th>ancestry</th>\n",
       "      <th>match_name</th>\n",
       "      <th>match_admin</th>\n",
       "      <th>sharedCM</th>\n",
       "      <th>segments</th>\n",
       "      <th>side</th>\n",
       "      <th>mrca</th>\n",
       "      <th>gens</th>\n",
       "      <th>notes</th>\n",
       "    </tr>\n",
       "  </thead>\n",
       "  <tbody>\n",
       "    <tr>\n",
       "      <th>0</th>\n",
       "      <td>anc_id 1</td>\n",
       "      <td>match_name 1</td>\n",
       "      <td>match_admin 1</td>\n",
       "      <td>3475.0</td>\n",
       "      <td>24</td>\n",
       "      <td>M</td>\n",
       "      <td>mrca 1</td>\n",
       "      <td>1.0</td>\n",
       "      <td>NaN</td>\n",
       "    </tr>\n",
       "  </tbody>\n",
       "</table>\n",
       "</div>"
      ],
      "text/plain": [
       "   ancestry    match_name    match_admin  sharedCM  segments side    mrca  \\\n",
       "0  anc_id 1  match_name 1  match_admin 1    3475.0        24    M  mrca 1   \n",
       "\n",
       "   gens  notes  \n",
       "0   1.0    NaN  "
      ]
     },
     "execution_count": 3,
     "metadata": {},
     "output_type": "execute_result"
    }
   ],
   "source": [
    "master_df = (pd.read_csv(f'{file_path}master_matches.csv',\n",
    "                          usecols=['ancestry','match_name','match_admin','sharedCM', 'segments',\n",
    "                                   'side','mrca','gens','notes']\n",
    "                         )\n",
    "             )\n",
    "master_df['ancestry'] = master_df['ancestry'].str.lower().str.strip()\n",
    "\n",
    "master_df.head(1)"
   ]
  },
  {
   "cell_type": "markdown",
   "id": "e4ffe6e6",
   "metadata": {},
   "source": [
    "## Create or Append to ***master_matches.db***"
   ]
  },
  {
   "cell_type": "code",
   "execution_count": 8,
   "id": "71e620c4",
   "metadata": {},
   "outputs": [],
   "source": [
    "# Connect to the SQLite database\n",
    "conn_write = sqlite3.connect(f'{file_path}master_matches.db')\n",
    "\n",
    "# Replace or Append to database depending on the db_mode; Creates table called matches\n",
    "if db_mode == 'create':\n",
    "    master_df.to_sql('matches', conn_write, if_exists='replace', index=False)\n",
    "else:\n",
    "    master_df.to_sql('matches', conn_write, if_exists='append', index=False)\n",
    "\n",
    "# Close the connection\n",
    "conn_write.close()"
   ]
  }
 ],
 "metadata": {
  "kernelspec": {
   "display_name": "Python 3 (ipykernel)",
   "language": "python",
   "name": "python3"
  },
  "language_info": {
   "codemirror_mode": {
    "name": "ipython",
    "version": 3
   },
   "file_extension": ".py",
   "mimetype": "text/x-python",
   "name": "python",
   "nbconvert_exporter": "python",
   "pygments_lexer": "ipython3",
   "version": "3.9.12"
  }
 },
 "nbformat": 4,
 "nbformat_minor": 5
}
